{
 "cells": [
  {
   "cell_type": "markdown",
   "metadata": {},
   "source": [
    "# Практическое задание №2 "
   ]
  },
  {
   "cell_type": "markdown",
   "metadata": {},
   "source": [
    "## Общая терминология по используемым данным\n",
    "\n",
    "Предоставляемые данные для разработки моделей и алгоритмов трекинга мяча в теннисе представляют собор набор игр (game), состоящих из нескольких клипов (clip), каждый из которых состоит из набора кадров (frame). Обратите внимание на структуру организации файлов внутри предоставляемого датасета для полного понимания.\n",
    "\n",
    "Большинство алгоритмов трекинга объектов работают с несколькими последовательными кадрами, и в данном задании также подразумевается использование этого приема. Последовательность нескольких кадров будем именовать стопкой (stack), размер стопки (stack_s) является гиперпараметром разрабатываемого алгоритма."
   ]
  },
  {
   "cell_type": "markdown",
   "metadata": {},
   "source": [
    "# Заготовка решения"
   ]
  },
  {
   "cell_type": "markdown",
   "metadata": {},
   "source": [
    "## Загрузка датасета\n",
    "Для работы с данными в ноутбуке kaggle необходимо подключить датасет. File -> Add or upload data, далее в поиске написать tennis-tracking-assignment и выбрать датасет. Если поиск не работает, то можно добавить датасет по url: https://www.kaggle.com/xubiker/tennistrackingassignment. После загрузки данные датасета будут примонтированы в ../input/tennistrackingassignment."
   ]
  },
  {
   "cell_type": "markdown",
   "metadata": {},
   "source": [
    "## Установка и импорт зависимостей"
   ]
  },
  {
   "cell_type": "markdown",
   "metadata": {},
   "source": [
    "Установка необходимых пакетов (не забудьте \"включить интернет\" в настройках ноутбука kaggle):"
   ]
  },
  {
   "cell_type": "code",
   "execution_count": null,
   "metadata": {
    "trusted": true
   },
   "outputs": [],
   "source": [
    "!pip install moviepy --upgrade\n",
    "!pip install gdown"
   ]
  },
  {
   "cell_type": "markdown",
   "metadata": {},
   "source": [
    "<font color=red>\n",
    "После установки пакетов для корректной работы надо обязательно перезагрузить ядро. Run -> Restart and clear cell outputs. Без сего действа будет ошибка при попытке обращения к библиотеке moviepy при сохранении визуализации в виде видео. Может когда-то авторы библиотеки это починят...\n",
    "</font>"
   ]
  },
  {
   "cell_type": "markdown",
   "metadata": {},
   "source": [
    "Импорт необходимых зависимостей:"
   ]
  },
  {
   "cell_type": "code",
   "execution_count": null,
   "metadata": {
    "trusted": true
   },
   "outputs": [],
   "source": [
    "from pathlib import Path\n",
    "from typing import List, Tuple, Sequence\n",
    "\n",
    "import numpy as np\n",
    "from numpy import unravel_index\n",
    "from PIL import Image, ImageDraw, ImageFont\n",
    "from tqdm import tqdm, notebook\n",
    "\n",
    "from moviepy.video.io.ImageSequenceClip import ImageSequenceClip\n",
    "\n",
    "import math\n",
    "from scipy.ndimage import gaussian_filter\n",
    "\n",
    "import gc\n",
    "import time\n",
    "import random\n",
    "import csv"
   ]
  },
  {
   "cell_type": "markdown",
   "metadata": {},
   "source": [
    "## Набор функций для загрузки данных из датасета"
   ]
  },
  {
   "cell_type": "markdown",
   "metadata": {},
   "source": [
    "Функция load_clip_data загружает выбранный клип из выбранной игры и возвращает его в виде numpy массива [n_frames, height, width, 3] типа uint8. Для ускорения загрузки используется кэширование - однажды загруженные клипы хранятся на диске в виде npz архивов, при последующем обращении к таким клипам происходит загрузка npz архива.\n",
    "\n",
    "<font color=\"red\">\n",
    "Также добавлена возможность чтения клипа в половинном разрешении 640x360, вместо оригинального 1280x720 для упрощения и ускорения разрабатываемых алгоритмов.\n",
    "</font>"
   ]
  },
  {
   "cell_type": "markdown",
   "metadata": {},
   "source": [
    "Функция load_clip_labels загружает референсные координаты мяча в клипе в виде numpy массива [n_frames, 4], где в каждой строке массива содержатся значения [code, x, y, q]. x, y соответствуют координате центра мяча на кадре, q не используется в данном задании, code описывает статус мяча:\n",
    "* code = 0 - мяча в кадре нет\n",
    "* code = 1 - мяч присутствует в кадре и легко идентифицируем\n",
    "* code = 2 - мяч присутствует в кадре, но сложно идентифицируем\n",
    "* code = 3 - мяч присутствует в кадре, но заслонен другими объектами.\n",
    "\n",
    "При загрузке в половинном разрешении координаты x, y делятся на 2.\n",
    "\n",
    "Функция load_clip загружает выбранный клип и соответствующий массив координат и возвращает их в виде пары."
   ]
  },
  {
   "cell_type": "code",
   "execution_count": null,
   "metadata": {
    "trusted": true
   },
   "outputs": [],
   "source": [
    "def get_num_clips(path: Path, game: int) -> int:\n",
    "    return len(list((path / f'game{game}/').iterdir()))\n",
    "\n",
    "\n",
    "def get_game_clip_pairs(path: Path, games: List[int]) -> List[Tuple[int, int]]:\n",
    "    return [(game, c)  for game in games for c in range(1, get_num_clips(path, game) + 1)]\n",
    "\n",
    "\n",
    "def load_clip_data(path: Path, game: int, clip: int, downscale: bool, quiet=False) -> np.ndarray:\n",
    "    if not quiet:\n",
    "        suffix = 'downscaled' if downscale else ''\n",
    "        print(f'loading clip data (game {game}, clip {clip}) {suffix}')\n",
    "    cache_path = path / 'cache'\n",
    "    cache_path.mkdir(exist_ok=True)\n",
    "    resize_code = '_ds2' if downscale else ''\n",
    "    cached_data_name = f'{game}_{clip}{resize_code}.npz'\n",
    "    if (cache_path / cached_data_name).exists():\n",
    "        clip_data = np.load(cache_path / cached_data_name)['clip_data']\n",
    "    else:\n",
    "        clip_path = path / f'game{game}/clip{clip}'\n",
    "        n_imgs = len(list(clip_path.iterdir())) - 1\n",
    "        imgs = [None] * n_imgs\n",
    "        for i in notebook.tqdm(range(n_imgs)):\n",
    "            img = Image.open(clip_path / f'{i:04d}.jpg')\n",
    "            if downscale:\n",
    "                img = img.resize((img.width // 2, img.height // 2),)\n",
    "            imgs[i] = np.array(img, dtype=np.uint8)\n",
    "        clip_data = np.stack(imgs)\n",
    "        cache_path.mkdir(exist_ok=True, parents=True)\n",
    "        np.savez_compressed(cache_path / cached_data_name, clip_data=clip_data)\n",
    "    return clip_data\n",
    "\n",
    "\n",
    "def load_clip_labels(path: Path, game: int, clip: int, downscale: bool, quiet=False):\n",
    "    if not quiet:\n",
    "        print(f'loading clip labels (game {game}, clip {clip})')\n",
    "    clip_path = path / f'game{game}/clip{clip}'\n",
    "    labels = []\n",
    "    with open(clip_path / 'labels.csv') as csvfile:\n",
    "        lines = list(csv.reader(csvfile))\n",
    "        for line in lines[1:]:\n",
    "            values = np.array([-1 if i == '' else int(i) for i in line[1:]])\n",
    "            if downscale:\n",
    "                values[1] //= 2\n",
    "                values[2] //= 2\n",
    "            labels.append(values)\n",
    "    return np.stack(labels)\n",
    "\n",
    "\n",
    "def load_clip(path: Path, game: int, clip: int, downscale: bool, quiet=False):\n",
    "    data = load_clip_data(path, game, clip, downscale, quiet)\n",
    "    labels = load_clip_labels(path, game, clip, downscale, quiet)\n",
    "    return data, labels\n"
   ]
  },
  {
   "cell_type": "markdown",
   "metadata": {},
   "source": [
    "## Набор дополнительных функций\n",
    "\n",
    "Еще несколько функций, немного облегчающих выполнение задания:\n",
    "\n",
    "* prepare_expariment создает новую директорию в out_path для хранения результатов текущего эксперимента. Нумерация выполняется автоматически, функция возвращает путь к созданной директории эксперимента;\n",
    "* ball_gauss_template - создает \"шаблон\" мяча, может быть использована в алгоритмах поиска мяча на изображении по корреляции;\n",
    "* create_masks - принимает набор кадров и набор координат мяча, и генерирует набор масок, в которых помещает шаблон мяча на заданные координаты. Может быть использована при обучении нейронной сети семантической сегментации;"
   ]
  },
  {
   "cell_type": "code",
   "execution_count": null,
   "metadata": {
    "_cell_guid": "b1076dfc-b9ad-4769-8c92-a6c4dae69d19",
    "_uuid": "8f2839f25d086af736a60e9eeb907d3b93b6e0e5",
    "trusted": true
   },
   "outputs": [],
   "source": [
    "def prepare_experiment(out_path: Path) -> Path:\n",
    "    out_path.mkdir(parents=True, exist_ok=True)\n",
    "    dirs = [d for d in out_path.iterdir() if d.is_dir() and d.name.startswith('exp_')]\n",
    "    experiment_id = max(int(d.name.split('_')[1]) for d in dirs) + 1 if dirs else 1\n",
    "    exp_path = out_path / f'exp_{experiment_id}'\n",
    "    exp_path.mkdir()\n",
    "    return exp_path\n",
    "\n",
    "\n",
    "def ball_gauss_template(rad, sigma):\n",
    "    x, y = np.meshgrid(np.linspace(-rad, rad, 2 * rad + 1), np.linspace(-rad, rad, 2 * rad + 1)) \n",
    "    dst = np.sqrt(x * x + y * y) \n",
    "    gauss = np.exp(-(dst ** 2 / (2.0 * sigma ** 2)))     \n",
    "    return gauss\n",
    "\n",
    "\n",
    "def create_masks(data: np.ndarray, labels: np.ndarray, resize):\n",
    "    rad = 64 #25\n",
    "    sigma = 10\n",
    "    if resize:\n",
    "        rad //= 2\n",
    "    ball = ball_gauss_template(rad, sigma)\n",
    "    n_frames = data.shape[0]\n",
    "    sh = rad\n",
    "    masks = []\n",
    "    for i in range(n_frames):\n",
    "        label = labels[i, ...] \n",
    "        frame = data[i, ...]\n",
    "        if 0 < label[0] < 3:\n",
    "            x, y = label[1:3]\n",
    "            mask = np.zeros((frame.shape[0] + 2 * rad + 2 * sh, frame.shape[1] + 2 * rad + 2 * sh), np.float32)\n",
    "            mask[y + sh : y + sh + 2 * rad + 1, x + sh : x + sh + 2 * rad + 1] = ball\n",
    "            mask = mask[rad + sh : -rad - sh, rad + sh : -rad - sh]\n",
    "            masks.append(mask)\n",
    "        else:\n",
    "            masks.append(np.zeros((frame.shape[0], frame.shape[1]), dtype=np.float32))\n",
    "    return np.stack(masks)\n"
   ]
  },
  {
   "cell_type": "markdown",
   "metadata": {},
   "source": [
    "## Набор функций, предназначенных для визуализации результатов\n",
    "\n",
    "Функция visualize_prediction принимает набор кадров, набор координат детекции мяча (можно подавать как референсные значения, так и предсказанные) и создает видеоклип, в котором отрисовывается положение мяча, его трек, номер кадра и метрика качества трекинга (если она была передана в функцию). Видеоклип сохраняется в виде mp4 файла. Кроме того данная функция создает текстовый файл, в который записывает координаты детекции мяча и значения метрики качества трекинга.\n",
    "\n",
    "Функция visualize_prob принимает набор кадров и набор предсказанных карт вероятности и создает клип с наложением предсказанных карт вероятности на исходные карты. Области \"подсвечиваются\" желтым, клип сохраняется в виде mp4 видеофайла. Данная функция может быть полезна при наличии в алгоритме трекинга сети, осуществляющей семантическую сегментацию."
   ]
  },
  {
   "cell_type": "code",
   "execution_count": null,
   "metadata": {
    "trusted": true
   },
   "outputs": [],
   "source": [
    "def _add_frame_number(frame: np.ndarray, number: int) -> np.ndarray:\n",
    "    fnt = ImageFont.load_default() # ImageFont.truetype(\"arial.ttf\", 25)\n",
    "    img = Image.fromarray(frame)\n",
    "    draw = ImageDraw.Draw(img)\n",
    "    draw.text((10, 10), f'frame {number}', font=fnt, fill=(255, 0, 255))\n",
    "    return np.array(img)\n",
    "\n",
    "\n",
    "def _vis_clip(data: np.ndarray, lbls: np.ndarray, metrics: List[float] = None, ball_rad=5, color=(255, 0, 0), track_length=10):\n",
    "    print('perfoming clip visualization')\n",
    "    n_frames = data.shape[0]\n",
    "    frames_res = []\n",
    "    fnt = ImageFont.load_default() # ImageFont.truetype(\"arial.ttf\", 25)\n",
    "    for i in range(n_frames):\n",
    "        img = Image.fromarray(data[i, ...])\n",
    "        draw = ImageDraw.Draw(img)\n",
    "        txt = f'frame {i}'\n",
    "        if metrics is not None:\n",
    "            txt += f', SiBaTrAcc: {metrics[i]:.3f}'\n",
    "        draw.text((10, 10), txt, font=fnt, fill=(255, 0, 255))\n",
    "        label = lbls[i]\n",
    "        if label[0] != 0: # the ball is clearly visible\n",
    "            px, py = label[1], label[2]\n",
    "            draw.ellipse((px - ball_rad, py - ball_rad, px + ball_rad, py + ball_rad), outline=color, width=2)\n",
    "            for q in range(track_length):\n",
    "                if lbls[i-q-1][0] == 0:\n",
    "                    break\n",
    "                if i - q > 0:\n",
    "                    draw.line((lbls[i - q - 1][1], lbls[i - q - 1][2], lbls[i - q][1], lbls[i - q][2]), fill=color)                \n",
    "        frames_res.append(np.array(img))\n",
    "    return frames_res\n",
    "\n",
    "\n",
    "def _save_clip(frames: Sequence[np.ndarray], path: Path, fps):\n",
    "    assert path.suffix in ('.mp4', '.gif')\n",
    "    clip = ImageSequenceClip(frames, fps=fps)\n",
    "    if path.suffix == '.mp4':\n",
    "        clip.write_videofile(str(path), fps=fps, logger=None)\n",
    "    else:\n",
    "        clip.write_gif(str(path), fps=fps, logger=None)\n",
    "\n",
    "\n",
    "def _to_yellow_heatmap(frame: np.ndarray, pred_frame: np.ndarray, alpha=0.4):\n",
    "    img = Image.fromarray((frame * alpha).astype(np.uint8))\n",
    "    maskR = (pred_frame * (1 - alpha) * 255).astype(np.uint8)\n",
    "    maskG = (pred_frame * (1 - alpha) * 255).astype(np.uint8)\n",
    "    maskB = np.zeros_like(maskG, dtype=np.uint8)\n",
    "    mask = np.stack([maskR, maskG, maskB], axis=-1)\n",
    "    return img + mask\n",
    "\n",
    "\n",
    "def _vis_pred_heatmap(data_full: np.ndarray, pred_prob: np.ndarray, display_frame_number):\n",
    "    n_frames = data_full.shape[0]\n",
    "    v_frames = []\n",
    "    for i in range(n_frames):\n",
    "        frame = data_full[i, ...]\n",
    "        pred = pred_prob[i, ...]\n",
    "        hm = _to_yellow_heatmap(frame, pred)\n",
    "        if display_frame_number:\n",
    "            hm = _add_frame_number(hm, i)\n",
    "        v_frames.append(hm)\n",
    "    return v_frames\n",
    "\n",
    "\n",
    "def visualize_prediction(data_full: np.ndarray, labels_pr: np.ndarray, save_path: Path, name: str, metrics=None, fps=15):\n",
    "    with open(save_path / f'{name}.txt', mode='w') as f:\n",
    "        if metrics is not None:\n",
    "            f.write(f'SiBaTrAcc: {metrics[-1]} \\n')\n",
    "        for i in range(labels_pr.shape[0]):\n",
    "            f.write(f'frame {i}: {labels_pr[i, 0]}, {labels_pr[i, 1]}, {labels_pr[i, 2]} \\n')\n",
    "\n",
    "    v = _vis_clip(data_full, labels_pr, metrics)\n",
    "    _save_clip(v, save_path / f'{name}.mp4', fps=fps)\n",
    "\n",
    "\n",
    "def visualize_prob(data: np.ndarray, pred_prob: np.ndarray, save_path: Path, name: str, frame_number=True, fps=15):\n",
    "    v_pred = _vis_pred_heatmap(data, pred_prob, frame_number)\n",
    "    _save_clip(v_pred, save_path / f'{name}_prob.mp4', fps=fps)\n"
   ]
  },
  {
   "cell_type": "markdown",
   "metadata": {},
   "source": [
    "## Класс DataGenerator \n",
    "\n",
    "Класс, отвечающий за генерацию данных для обучения модели. Принимает на вход путь к директории с играми, индексы игр, используемые для генерации данных, и размер стопки. Хранит в себе автоматически обновляемый пул с клипами игр.\n",
    "\n",
    "В пуле содержится pool_s клипов. DataGenerator позволяет генерировать батч из стопок (размера stack_s) последовательных кадров. Выбор клипа для извлечения данных взвешенно-случайный: чем больше длина клипа по сравнению с другими клипами в пуле, тем вероятнее, что именно из него будет сгенерирована стопка кадров. Выбор стопки кадров внтури выбранного клипа полностью случаен. Кадры внутри стопки конкатенируются по последнему измерению (каналам).\n",
    "\n",
    "После генерирования количества кадров равного общему количеству кадров, хранимых в пуле, происходит автоматическое обновление пула: из пула извлекаются pool_update_s случайных клипов, после чего в пул загружается pool_update_s случайных клипов, не присутствующих в пуле. В случае, если размер пула pool_s больше или равен суммарному количеству клипов в играх, переданных в конструктор, все клипы сразу загружаются в пул, и автообновление не производится.\n",
    "\n",
    "Использование подобного пула позволяет работать с практически произвольным количеством клипов, без необходимости загружать их всех в оперативную память."
   ]
  },
  {
   "cell_type": "markdown",
   "metadata": {},
   "source": [
    "Для вашего удобства функция извлечения стопки кадров из пула помимо самой стопки также создает и возвращает набор сгенерированных масок с мячом исходя из референсных координат мяча в клипе.\n",
    "\n",
    "Функция random_g принимает гиперпараметр размера стопки кадров и предоставляет генератор, возвращающий стопки кадров и соответствующие им маски. Данный генератор может быть использован при реализации решения на tensorflow. Обновление пула происходит автоматически, об этом беспокоиться не нужно."
   ]
  },
  {
   "cell_type": "code",
   "execution_count": null,
   "metadata": {
    "trusted": true
   },
   "outputs": [],
   "source": [
    "class DataGenerator:\n",
    "\n",
    "    def __init__(self, path: Path, games: List[int], stack_s, downscale, pool_s=30, pool_update_s=10, pool_autoupdate=True, quiet=False) -> None:\n",
    "        self.path = path\n",
    "        self.stack_s = stack_s\n",
    "        self.downscale = downscale\n",
    "        self.pool_size = pool_s\n",
    "        self.pool_update_size = pool_update_s\n",
    "        self.pool_autoupdate = pool_autoupdate\n",
    "        self.quiet = quiet\n",
    "        self.data = []\n",
    "        self.masks = []\n",
    "\n",
    "        self.frames_in_pool = 0\n",
    "        self.produced_frames = 0\n",
    "        self.game_clip_pairs = get_game_clip_pairs(path, list(set(games)))\n",
    "        self.game_clip_pairs_loaded = []\n",
    "        self.game_clip_pairs_not_loaded = list.copy(self.game_clip_pairs) \n",
    "        self.pool = {}\n",
    "\n",
    "        self._first_load()\n",
    "\n",
    "    def _first_load(self):\n",
    "        # --- if all clips can be placed into pool at once, there is no need to refresh pool at all ---\n",
    "        if len(self.game_clip_pairs) <= self.pool_size:\n",
    "            for gcp in self.game_clip_pairs:\n",
    "                self._load(gcp)\n",
    "            self.game_clip_pairs_loaded = list.copy(self.game_clip_pairs)\n",
    "            self.game_clip_pairs_not_loaded.clear()\n",
    "            self.pool_autoupdate = False\n",
    "        else:\n",
    "            self._load_to_pool(self.pool_size)        \n",
    "        self._update_clip_weights()\n",
    "\n",
    "    def _load(self, game_clip_pair):\n",
    "        game, clip = game_clip_pair\n",
    "        data, labels = load_clip(self.path, game, clip, self.downscale, quiet=self.quiet)\n",
    "        masks = create_masks(data, labels, self.downscale)\n",
    "        weight = data.shape[0] if data.shape[0] >= self.stack_s else 0\n",
    "        self.pool[game_clip_pair] = (data, labels, masks, weight)\n",
    "        self.frames_in_pool += data.shape[0] - self.stack_s + 1\n",
    "        # print(f'items in pool: {len(self.pool)} - {self.pool.keys()}')\n",
    "\n",
    "    def _remove(self, game_clip_pair):\n",
    "        value = self.pool.pop(game_clip_pair)\n",
    "        self.frames_in_pool -= value[0].shape[0] - self.stack_s + 1\n",
    "        del value\n",
    "        # print(f'items in pool: {len(self.pool)} - {self.pool.keys()}')\n",
    "\n",
    "    def _update_clip_weights(self):\n",
    "        weights = [self.pool[pair][-1] for pair in self.game_clip_pairs_loaded]\n",
    "        tw = sum(weights)\n",
    "        self.clip_weights = [w / tw for w in weights]\n",
    "        # print(f'clip weights: {self.clip_weights}')\n",
    "\n",
    "    def _remove_from_pool(self, n):\n",
    "        # --- remove n random clips from pool ---\n",
    "        if len(self.game_clip_pairs_loaded) >= n:\n",
    "            remove_pairs = random.sample(self.game_clip_pairs_loaded, n)\n",
    "            for pair in remove_pairs:\n",
    "                self._remove(pair)\n",
    "                self.game_clip_pairs_loaded.remove(pair)\n",
    "                self.game_clip_pairs_not_loaded.append(pair)\n",
    "            gc.collect()\n",
    "\n",
    "    def _load_to_pool(self, n):\n",
    "        # --- add n random clips to pool ---\n",
    "        gc.collect()\n",
    "        add_pairs = random.sample(self.game_clip_pairs_not_loaded, n)\n",
    "        for pair in add_pairs:\n",
    "            self._load(pair)\n",
    "            self.game_clip_pairs_not_loaded.remove(pair)\n",
    "            self.game_clip_pairs_loaded.append(pair)\n",
    "\n",
    "    def update_pool(self):\n",
    "        self._remove_from_pool(self.pool_update_size)\n",
    "        self._load_to_pool(self.pool_update_size)\n",
    "        self._update_clip_weights()\n",
    "\n",
    "    def get_random_stack(self):\n",
    "        pair_idx = np.random.choice(len(self.game_clip_pairs_loaded), 1, p=self.clip_weights)[0]\n",
    "        game_clip_pair = self.game_clip_pairs_loaded[pair_idx]\n",
    "        d, _, m, _ = self.pool[game_clip_pair]\n",
    "        start = np.random.choice(d.shape[0] - self.stack_s, 1)[0]\n",
    "        frames_stack = d[start : start + self.stack_s, ...]\n",
    "        frames_stack = np.squeeze(np.split(frames_stack, indices_or_sections=self.stack_s, axis=0))\n",
    "        frames_stack = np.concatenate(frames_stack, axis=-1)\n",
    "        mask = m[start + self.stack_s - 1, ...]\n",
    "        return frames_stack, mask\n",
    "\n",
    "    def get_random_batch(self, batch_s):\n",
    "        imgs, masks = [], []\n",
    "        while len(imgs) < batch_s:\n",
    "            frames_stack, mask = self.get_random_stack()\n",
    "            imgs.append(frames_stack)\n",
    "            masks.append(mask)\n",
    "        if self.pool_autoupdate:\n",
    "            self.produced_frames += batch_s\n",
    "            # print(f'produced frames: {self.produced_frames} from {self.frames_in_pool}')\n",
    "            if self.produced_frames >= self.frames_in_pool:\n",
    "                self.update_pool()\n",
    "                self.produced_frames = 0\n",
    "        return np.stack(imgs), np.stack(masks)\n",
    "\n",
    "    def random_g(self, batch_s):\n",
    "        while True:\n",
    "            imgs_batch, masks_batch = self.get_random_batch(batch_s)\n",
    "            yield imgs_batch, masks_batch\n"
   ]
  },
  {
   "cell_type": "markdown",
   "metadata": {},
   "source": [
    "### Пример использования DataGenerator"
   ]
  },
  {
   "cell_type": "markdown",
   "metadata": {},
   "source": [
    "Рекомендованный размер пула pool_s=10 в случае использования уменьшенных вдвое изображений. При большем размере пула есть большая вероятность нехватки имеющихся 13G оперативной памяти.\n",
    "Используйте параметр quiet=True в конструкторе DataGenerator, если хотите скрыть все сообщения о чтении данных и обновлении пула."
   ]
  },
  {
   "cell_type": "code",
   "execution_count": null,
   "metadata": {
    "trusted": true
   },
   "outputs": [],
   "source": [
    "stack_s = 3\n",
    "batch_s = 4\n",
    "train_gen = DataGenerator(Path('../input/tennistrackingassignment/train/'), [1, 2, 3, 4], stack_s=stack_s, downscale=True, pool_s=10, pool_update_s=4, quiet=False)\n",
    "for i in range(10):\n",
    "    imgs, masks = train_gen.get_random_batch(batch_s)\n",
    "    print(imgs.shape, imgs.dtype, masks.shape, masks.dtype)\n",
    "    "
   ]
  },
  {
   "cell_type": "code",
   "execution_count": null,
   "metadata": {
    "trusted": true
   },
   "outputs": [],
   "source": [
    "import matplotlib.pyplot as plt\n",
    "\n",
    "stack_s = 3\n",
    "train_gen = DataGenerator(Path('../input/tennistrackingassignment/train/'), [1], stack_s=stack_s, downscale=True, pool_s=10, pool_update_s=4, quiet=False)\n",
    "stack, mask = train_gen.get_random_stack()\n",
    "print(stack.shape, mask.shape)\n",
    "\n",
    "for i in range(stack_s):\n",
    "    plt.figure()\n",
    "    plt.imshow(stack[:, :, 3 * i: 3 * i + 3])"
   ]
  },
  {
   "cell_type": "markdown",
   "metadata": {},
   "source": [
    "## Класс Metrics\n",
    "Класс для вычисления метрики качества трекинга SiBaTrAcc. Функция evaluate_predictions принимает массив из референсных и предсказанных координат мяча для клипа и возвращает массив аккумулированных значений SiBaTrAcc (может быть полезно для визуализации результатов предсказания) и итоговое значение метрики SiBaTrAcc."
   ]
  },
  {
   "cell_type": "code",
   "execution_count": null,
   "metadata": {
    "trusted": true
   },
   "outputs": [],
   "source": [
    "class Metrics:\n",
    "\n",
    "    @staticmethod\n",
    "    def position_error(label_gt: np.ndarray, label_pr: np.ndarray, step=8, alpha=1.5, e1=5, e2=5):\n",
    "        # gt codes:\n",
    "        # 0 - the ball is not within the image\n",
    "        # 1 - the ball can easily be identified\n",
    "        # 2 - the ball is in the frame, but is not easy to identify\n",
    "        # 3 - the ball is occluded\n",
    "        if label_gt[0] != 0 and label_pr[0] == 0:\n",
    "            return e1\n",
    "        if label_gt[0] == 0 and label_pr[0] != 0:\n",
    "            return e2\n",
    "        dist = math.sqrt((label_gt[1] - label_pr[1]) ** 2 + (label_gt[2] - label_pr[2]) ** 2)\n",
    "        pe = math.floor(dist / step) ** alpha\n",
    "        pe = min(pe, 5)\n",
    "        return pe\n",
    "\n",
    "    @staticmethod\n",
    "    def evaluate_predictions(labels_gt, labels_pr) -> Tuple[List[float], float]:\n",
    "        pe = [Metrics.position_error(labels_gt[i, ...], labels_pr[i, ...]) for i in range(len(labels_gt))]\n",
    "        SIBATRACC = []\n",
    "        for i, _ in enumerate(pe):\n",
    "            SIBATRACC.append(1 - sum(pe[: i + 1]) / ((i + 1) * 5))\n",
    "        SIBATRACC_total = 1 - sum(pe) / (len(labels_gt) * 5)\n",
    "        return SIBATRACC, SIBATRACC_total\n"
   ]
  },
  {
   "cell_type": "markdown",
   "metadata": {},
   "source": [
    "## Основной класс модели SuperTrackingModel\n",
    "\n",
    "Реализует всю логику обучения, сохранения, загрузки и тестирования разработанной модели трекинга. Этот класс можно и нужно расширять.\n",
    "\n",
    "В качестве примера вам предлагается заготовка модели, в которой трекинг осуществляется за счет предсказания маски по входному батчу и последующему предсказанию координат мяча по полученной маски. В данном варианте вызов функции предсказания координат по клипу (predict) повлечет за собой разбиение клипа на батчи, вызов предсказания маски для каждого батча, склеивание результатов в последовательность масок, вызов функции по вычислению координат мяча по маскам и возвращения результата. Описанные действия уже реализованы, вам остается только написать функции predict_on_bath и get_labels_from_prediction. Эта же функция predict используется и в вызове функции test, дополнительно вычисляя метрику качества трекинга и при необходимости визуализируя результат тестирования. Обратите внимание, что в результирующем numpy массиве с координатами помимо значений x и y первым значением в каждой строке должно идти значение code (0, если мяча в кадре нет и > 0, если мяч в кадре есть) для корректного вычисления качества трекинга.\n",
    "\n",
    "<font color=\"red\">\n",
    "Вам разрешается менять логику работы класса модели, (например, если решение не подразумевает использование масок), но при этом логика и работа функций load и test должна остаться неизменной!\n",
    "</font>"
   ]
  },
  {
   "cell_type": "code",
   "execution_count": null,
   "metadata": {
    "vscode": {
     "languageId": "ini"
    }
   },
   "outputs": [],
   "source": [
    "import os\n",
    "import shutil\n",
    "import yaml\n",
    "import random\n",
    "from pathlib import Path\n",
    "import cv2\n",
    "import numpy as np\n",
    "from tqdm import tqdm\n",
    "\n",
    "# Функция для создания аннотаций в формате YOLO\n",
    "def create_yolo_annotations(data_path, output_path, classes):\n",
    "    os.makedirs(output_path, exist_ok=True)\n",
    "    for game in os.listdir(data_path):\n",
    "        game_path = os.path.join(data_path, game)\n",
    "        for clip in os.listdir(game_path):\n",
    "            clip_path = os.path.join(game_path, clip)\n",
    "            labels_path = os.path.join(clip_path, 'labels.csv')\n",
    "            images_path = os.path.join(clip_path, 'images')\n",
    "            with open(labels_path, 'r') as f:\n",
    "                lines = f.readlines()[1:]\n",
    "                for line in lines:\n",
    "                    frame_id, code, x, y, q = line.strip().split(',')\n",
    "                    if int(code) > 0:\n",
    "                        img_path = os.path.join(images_path, f'{frame_id}.jpg')\n",
    "                        img = cv2.imread(img_path)\n",
    "                        height, width, _ = img.shape\n",
    "                        x_center = float(x) / width\n",
    "                        y_center = float(y) / height\n",
    "                        w = 0.02  # Примерный размер мяча, можно настроить\n",
    "                        h = 0.02  # Примерный размер мяча, можно настроить\n",
    "                        label_path = os.path.join(output_path, f'{frame_id}.txt')\n",
    "                        with open(label_path, 'w') as label_file:\n",
    "                            label_file.write(f'0 {x_center} {y_center} {w} {h}\\n')\n",
    "\n",
    "# Пример использования функции\n",
    "data_path = '../input/tennistrackingassignment/train/'\n",
    "output_path = './yolo_annotations/'\n",
    "classes = ['ball']\n",
    "create_yolo_annotations(data_path, output_path, classes)\n",
    "\n",
    "# Создание конфигурационного файла для обучения YOLO\n",
    "config = {\n",
    "    'train': './yolo_annotations/',\n",
    "    'val': './yolo_annotations/',\n",
    "    'nc': len(classes),\n",
    "    'names': classes\n",
    "}\n",
    "\n",
    "with open('data.yaml', 'w') as f:\n",
    "    yaml.dump(config, f)\n",
    "\n",
    "# Запуск процесса обучения YOLO\n",
    "!python train.py --img 640 --batch 16 --epochs 50 --data data.yaml --cfg yolov5s.yaml --weights yolov5s.pt --name tennis_yolo"
   ]
  },
  {
   "cell_type": "code",
   "execution_count": null,
   "metadata": {
    "vscode": {
     "languageId": "ini"
    }
   },
   "outputs": [],
   "source": [
    "def create_yolo_annotations(data_path: Path, output_path: Path, game: int):\n",
    "    os.makedirs(output_path, exist_ok=True)\n",
    "    for game in os.listdir(data_path) :\n",
    "        if 'game' not in game:\n",
    "            continue\n",
    "        game_path = os.path.join(data_path, game)\n",
    "        for clip in os.listdir(game_path) :\n",
    "            clip_path = os.path.join(game_path, clip)\n",
    "            labels_path = os.path.join(clip_path, 'labels.csv')\n",
    "            with open(labels_path, 'r') as f:\n",
    "                lines = f.readlines[1:]\n",
    "                for line in lines:\n",
    "                    filename, visibility, x, y, _ = line.strip().split(',')\n",
    "                    height, width = (1280, 720)\n",
    "                    X_center = float(x) / width\n",
    "                    Y_center = float(y) / height\n",
    "                    label_path = output_path / f\"{game)/{clip}.txt\")\n",
    "                    print(label_path)\n",
    "\n",
    "\n",
    "# Пример использования функции\n",
    "data_path = '/kaggle/input/train'\n",
    "output_path = './yolo_annotations/'\n",
    "classes = ['ball']\n",
    "create_yolo_annotations(data_path, output_path, classes)\n",
    "\n",
    "# Создание конфигурационного файла для обучения YOLO\n",
    "config = {\n",
    "    'train': './yolo_annotations/',\n",
    "    'val': './yolo_annotations/',\n",
    "    'nc': len(classes),\n",
    "    'names': classes\n",
    "}\n",
    "\n",
    "with open('data.yaml', 'w') as f:\n",
    "    yaml.dump(config, f)"
   ]
  },
  {
   "cell_type": "code",
   "execution_count": null,
   "metadata": {
    "trusted": true
   },
   "outputs": [],
   "source": [
    "class SuperTrackingModel:\n",
    "\n",
    "    def __init__(self, batch_s, stack_s, out_path, downscale):\n",
    "        self.batch_s = batch_s\n",
    "        self.stack_s = stack_s\n",
    "        self.out_path = out_path\n",
    "        self.downscale = downscale\n",
    "\n",
    "    def load(self):\n",
    "        # todo: add code for loading model here\n",
    "        print('Running stub for loading model ...')\n",
    "        time.sleep(1)\n",
    "        print('Loading model done.')\n",
    "\n",
    "    def predict_on_batch(self, batch: np.ndarray) -> np.ndarray:\n",
    "        # todo: add code for batch mask prediction here\n",
    "        return np.zeros(batch.shape[:3])\n",
    "        \n",
    "    def _predict_prob_on_clip(self, clip: np.ndarray) -> np.ndarray:\n",
    "        print('doing predictions')\n",
    "        n_frames = clip.shape[0]\n",
    "        # --- get stacks ---\n",
    "        stacks = []\n",
    "        for i in range(n_frames - self.stack_s + 1):\n",
    "            stack = clip[i : i + self.stack_s, ...]\n",
    "            stack = np.squeeze(np.split(stack, self.stack_s, axis=0))\n",
    "            stack = np.concatenate(stack, axis=-1)\n",
    "            stacks.append(stack)\n",
    "        # --- round to batch size ---\n",
    "        add_stacks = 0\n",
    "        while len(stacks) % self.batch_s != 0:\n",
    "            stacks.append(stacks[-1])\n",
    "            add_stacks += 1\n",
    "        # --- group into batches ---\n",
    "        batches = []\n",
    "        for i in range(len(stacks) // self.batch_s):\n",
    "            batch = np.stack(stacks[i * self.batch_s : (i + 1) * self.batch_s])\n",
    "            batches.append(batch)\n",
    "        stacks.clear()\n",
    "        # --- perform predictions ---\n",
    "        predictions = []\n",
    "        for batch in batches:\n",
    "            pred = np.squeeze(self.predict_on_batch(batch))\n",
    "            predictions.append(pred)\n",
    "        # --- crop back to source length ---\n",
    "        predictions = np.concatenate(predictions, axis=0)\n",
    "        if (add_stacks > 0):\n",
    "            predictions = predictions[:-add_stacks, ...]\n",
    "        batches.clear()\n",
    "        # --- add (stack_s - 1) null frames at the begining ---\n",
    "        start_frames = np.zeros((stack_s - 1, predictions.shape[1], predictions.shape[2]), dtype=np.float32)\n",
    "        predictions = np.concatenate((start_frames, predictions), axis=0)\n",
    "        print('predictions are made')        \n",
    "        return predictions\n",
    "\n",
    "    def get_labels_from_prediction(self, pred_prob: np.ndarray, upscale_coords: bool) -> np.ndarray:\n",
    "        # todo: get ball coordinates from predicted masks\n",
    "        # remember to upscale predicted coords if you use downscaled images\n",
    "        n_frames = pred_prob.shape[0]\n",
    "        coords = np.zeros([n_frames, 3])\n",
    "        for i in range(n_frames):\n",
    "            coords[i] = [1, np.random.randint(640), np.random.randint(360)]\n",
    "        return coords\n",
    "\n",
    "    def predict(self, clip: np.ndarray, upscale_coords=True) -> tuple[np.ndarray, np.ndarray]:\n",
    "        prob_pr = self._predict_prob_on_clip(clip)\n",
    "        labels_pr = self.get_labels_from_prediction(prob_pr, upscale_coords)\n",
    "        return labels_pr, prob_pr\n",
    "\n",
    "    def test(self, data_path: Path, games: List[int], do_visualization=False, test_name='test'):\n",
    "        game_clip_pairs = get_game_clip_pairs(data_path, games)\n",
    "        SIBATRACC_vals = []\n",
    "        for game, clip in game_clip_pairs:\n",
    "            data = load_clip_data(data_path, game, clip, downscale=self.downscale)\n",
    "            if do_visualization:\n",
    "                data_full = load_clip_data(data_path, game, clip, downscale=False) if self.downscale else data\n",
    "            labels_gt = load_clip_labels(data_path, game, clip, downscale=False)\n",
    "            labels_pr, prob_pr = self.predict(data)\n",
    "            SIBATRACC_per_frame, SIBATRACC_total = Metrics.evaluate_predictions(labels_gt, labels_pr)\n",
    "            SIBATRACC_vals.append(SIBATRACC_total)\n",
    "            if do_visualization:\n",
    "                visualize_prediction(data_full, labels_pr, self.out_path, f'{test_name}_g{game}_c{clip}', SIBATRACC_per_frame)\n",
    "                visualize_prob(data, prob_pr, self.out_path, f'{test_name}_g{game}_c{clip}')\n",
    "                del data_full\n",
    "            del data, labels_gt, labels_pr, prob_pr\n",
    "            gc.collect()\n",
    "        SIBATRACC_final = sum(SIBATRACC_vals) / len(SIBATRACC_vals)\n",
    "        return SIBATRACC_final\n",
    "\n",
    "    def train(self, param_1=None, param_2=None, param_3=None, param_4=None, param_5=None, param_6=None):\n",
    "        # todo: implement model training here\n",
    "        print('Running stub for training model...')\n",
    "        time.sleep(2)\n",
    "        print('training done.')"
   ]
  },
  {
   "cell_type": "markdown",
   "metadata": {},
   "source": [
    "Пример пайплайна для обучения модели:"
   ]
  },
  {
   "cell_type": "code",
   "execution_count": null,
   "metadata": {
    "trusted": true
   },
   "outputs": [],
   "source": [
    "batch_s = 4\n",
    "stack_s = 3\n",
    "downscale = True\n",
    "\n",
    "output_path = prepare_experiment(Path('/kaggle/working'))\n",
    "\n",
    "model = SuperTrackingModel(batch_s, stack_s, out_path=output_path, downscale=downscale)\n",
    "\n",
    "train_gen = DataGenerator(Path('../input/tennistrackingassignment/train/'), [1, 2, 3], stack_s=stack_s, downscale=True, pool_s=10, pool_update_s=4, quiet=False)\n",
    "val_gen = DataGenerator(Path('../input/tennistrackingassignment/train/'), [4], stack_s=stack_s, downscale=True, pool_s=4, pool_update_s=2, quiet=False)\n",
    "\n",
    "model.train(train_gen.random_g, val_gen.random_g)"
   ]
  },
  {
   "cell_type": "markdown",
   "metadata": {},
   "source": [
    "Пример пайплайна для тестирования обученной модели:"
   ]
  },
  {
   "cell_type": "code",
   "execution_count": null,
   "metadata": {
    "trusted": true
   },
   "outputs": [],
   "source": [
    "output_path = prepare_experiment(Path('/kaggle/working'))\n",
    "new_model = SuperTrackingModel(batch_s, stack_s, out_path=output_path, downscale=downscale)\n",
    "new_model.load()\n",
    "sibatracc_final = new_model.test(Path('../input/tennistrackingassignment/test/'), [1,], do_visualization=True, test_name='test')\n",
    "print(f'SiBaTrAcc final value: {sibatracc_final}')"
   ]
  },
  {
   "cell_type": "markdown",
   "metadata": {},
   "source": [
    "Во время самостоятельного тестирования попробуйте хотя бы раз сделать тестирование с визуализацией (do_visualization=True), чтобы визуально оценить качество трекинга разработанной моделью."
   ]
  },
  {
   "cell_type": "markdown",
   "metadata": {},
   "source": [
    "<font color=red>\n",
    "Загрузка модели через функцию load должна происходить полностью автоматически без каких-либо действий со стороны пользователя! Один из вариантов подобной реализации с использованием google drive и пакета gdown приведен в разделе с дополнениями.\n",
    "</font>"
   ]
  },
  {
   "cell_type": "markdown",
   "metadata": {},
   "source": [
    "## Дополнения\n",
    "\n",
    "Иногда при записи большого количества файлов в output директорию kaggle может \"тупить\" и не отображать корректно структуру дерева файлов в output и не показывать кнопки для скачивания выбранного файла. В этом случае удобно будет запаковать директорию с экспериментом и выкачать ее вручную. Пример для выкачивания директории с первым экспериментом приведен ниже:"
   ]
  },
  {
   "cell_type": "code",
   "execution_count": null,
   "metadata": {
    "trusted": true
   },
   "outputs": [],
   "source": [
    "%cd /kaggle/working/\n",
    "!zip -r \"exp_1.zip\" \"exp_1\"\n",
    "from IPython.display import FileLink\n",
    "FileLink(r'exp_1.zip')"
   ]
  },
  {
   "cell_type": "markdown",
   "metadata": {},
   "source": [
    "удалить лишние директории или файлы в output тоже легко:"
   ]
  },
  {
   "cell_type": "code",
   "execution_count": null,
   "metadata": {
    "trusted": true
   },
   "outputs": [],
   "source": [
    "!rm -r /kaggle/working/exp_1"
   ]
  },
  {
   "cell_type": "markdown",
   "metadata": {},
   "source": [
    "Для реализации загрузки данных рекомендуется использовать облачное хранилище google drive и пакет gdown для скачивания файлов. Пример подобного использования приведен ниже:\n",
    "1. загружаем файл в google drive (в данном случае, это npz архив, содержащий один numpy массив по ключу 'w')\n",
    "2. в интерфейсе google drive открываем доступ на чтение к файлу по ссылке и извлекаем из ссылки id файла\n",
    "3. формируем url для скачивания файла\n",
    "4. с помощью gdown скачиваем файл\n",
    "5. распаковываем npz архив и пользуемся numpy массивом\n",
    "\n",
    "<font color=\"red\">\n",
    "Обратите внимание, что для корректной работы нужно правильно определить id файла. В частности, в ссылке https://drive.google.com/file/d/1kZ8CC-zfkB_TlwtBjuPcEfsPV0Jz7IPA/view?usp=sharing id файла заключен между ...d/ b /view?... и равен 1kZ8CC-zfkB_TlwtBjuPcEfsPV0Jz7IPA\n",
    "</font>"
   ]
  },
  {
   "cell_type": "code",
   "execution_count": null,
   "metadata": {
    "trusted": true
   },
   "outputs": [],
   "source": [
    "import gdown\n",
    "\n",
    "id = '1kZ8CC-zfkB_TlwtBjuPcEfsPV0Jz7IPA'\n",
    "url = f'https://drive.google.com/uc?id={id}'\n",
    "output = 'sample-weights.npz'\n",
    "gdown.download(url, output, quiet=False)\n",
    "\n",
    "import numpy as np\n",
    "\n",
    "weights = np.load('/kaggle/working/sample-weights.npz')['w']\n",
    "print(weights)"
   ]
  }
 ],
 "metadata": {
  "kaggle": {
   "accelerator": "nvidiaTeslaT4",
   "dataSources": [
    {
     "datasetId": 1250524,
     "sourceId": 2085688,
     "sourceType": "datasetVersion"
    }
   ],
   "dockerImageVersionId": 30787,
   "isGpuEnabled": true,
   "isInternetEnabled": true,
   "language": "python",
   "sourceType": "notebook"
  },
  "kernelspec": {
   "display_name": "Python 3",
   "language": "python",
   "name": "python3"
  },
  "language_info": {
   "codemirror_mode": {
    "name": "ipython",
    "version": 3
   },
   "file_extension": ".py",
   "mimetype": "text/x-python",
   "name": "python",
   "nbconvert_exporter": "python",
   "pygments_lexer": "ipython3",
   "version": "3.10.14"
  }
 },
 "nbformat": 4,
 "nbformat_minor": 4
}
